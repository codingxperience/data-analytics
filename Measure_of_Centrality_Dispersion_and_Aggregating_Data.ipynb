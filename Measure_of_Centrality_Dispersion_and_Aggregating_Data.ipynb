{
  "cells": [
    {
      "cell_type": "markdown",
      "metadata": {
        "id": "mt_VrgrvIEu5"
      },
      "source": [
        "# Aggregation in Pandas\n",
        "One of the many benefits of using Pandas is how easily Pandas makes it to group and aggregate data.  \n",
        "Data aggregation is a common task that you may have to perform as part of data analysis and this can be accomplished quite easily using Pandas; inbuilt functions.\n",
        "\n",
        "### Pandas Describe Function\n",
        "This function gives a general descriptive statistics for a DataFrame/Series for all numerical columns.\n",
        "Let's use the [Pima Indians Dataset](https://www.kaggle.com/datasets/uciml/pima-indians-diabetes-database) and it can be loaded from [here](https://raw.githubusercontent.com/npradaschnor/Pima-Indians-Diabetes-Dataset/master/diabetes.csv). You can use the URL to load the data directly"
      ]
    },
    {
      "cell_type": "code",
      "execution_count": null,
      "metadata": {
        "id": "uXxCbJWmI59B"
      },
      "outputs": [],
      "source": [
        "# Import libraries\n",
        "import pandas as pd"
      ]
    },
    {
      "cell_type": "code",
      "execution_count": null,
      "metadata": {
        "id": "RVThgcXLI-FQ"
      },
      "outputs": [],
      "source": [
        "# Load the data\n",
        "filename=\"https://raw.githubusercontent.com/npradaschnor/Pima-Indians-Diabetes-Dataset/master/diabetes.csv\"\n",
        "df = pd.read_csv(filename)"
      ]
    },
    {
      "cell_type": "code",
      "execution_count": null,
      "metadata": {
        "id": "z_M5e4H2JIlq"
      },
      "outputs": [],
      "source": [
        "# Basic exploration\n",
        "df.head(3)"
      ]
    },
    {
      "cell_type": "code",
      "execution_count": null,
      "metadata": {
        "id": "vFWLZqjIOBKV"
      },
      "outputs": [],
      "source": [
        "# What else can we check?\n",
        "df.info()"
      ]
    },
    {
      "cell_type": "code",
      "execution_count": null,
      "metadata": {
        "id": "Ixb-u11mOGSK"
      },
      "outputs": [],
      "source": [
        "# Descriptive statistics with describe() method\n",
        "df.describe()"
      ]
    },
    {
      "cell_type": "markdown",
      "metadata": {
        "id": "RZ2cRutuON-Y"
      },
      "source": [
        "Note that this summary will be done for all numerical columns even if the underlying data is not numerical in type so you may need to slice some columns."
      ]
    },
    {
      "cell_type": "code",
      "execution_count": null,
      "metadata": {
        "id": "VYTqSOuwOhT9"
      },
      "outputs": [],
      "source": [
        "# Describe while specifying precision\n",
        "df.describe().round(3)"
      ]
    },
    {
      "cell_type": "markdown",
      "metadata": {
        "id": "pBW39UmJOs6x"
      },
      "source": [
        "You can also get individual measures from each column.  \n",
        "Let us consider the BloodPressure column"
      ]
    },
    {
      "cell_type": "code",
      "execution_count": null,
      "metadata": {
        "id": "WhcENfHFPBim"
      },
      "outputs": [],
      "source": [
        "# Slice the clomun\n",
        "bp_data = df['BloodPressure']"
      ]
    },
    {
      "cell_type": "code",
      "execution_count": null,
      "metadata": {
        "id": "MeynZK_oPJQE"
      },
      "outputs": [],
      "source": [
        "# Get the mean\n",
        "bp_data.mean()"
      ]
    },
    {
      "cell_type": "code",
      "execution_count": null,
      "metadata": {
        "id": "Pg-PkeO8PNBZ"
      },
      "outputs": [],
      "source": [
        "# Get the median\n",
        "bp_data.median()"
      ]
    },
    {
      "cell_type": "code",
      "execution_count": null,
      "metadata": {
        "id": "BNbCCVM5PR_n"
      },
      "outputs": [],
      "source": [
        "# Get the variance\n",
        "bp_data.var()"
      ]
    },
    {
      "cell_type": "code",
      "execution_count": null,
      "metadata": {
        "id": "3vh5Pf_ZPf3o"
      },
      "outputs": [],
      "source": [
        "# Get the standard deviation\n",
        "bp_data.std()"
      ]
    },
    {
      "cell_type": "code",
      "execution_count": null,
      "metadata": {
        "id": "XZH1Xd4sPnpf"
      },
      "outputs": [],
      "source": [
        "# Minimum\n",
        "bp_data.min()"
      ]
    },
    {
      "cell_type": "code",
      "execution_count": null,
      "metadata": {
        "id": "nqlfL4ixPrFU"
      },
      "outputs": [],
      "source": [
        "# Maximum\n",
        "bp_data.max()"
      ]
    },
    {
      "cell_type": "code",
      "execution_count": 14,
      "metadata": {
        "id": "frS2kXv9Pvsx"
      },
      "outputs": [
        {
          "name": "stdout",
          "output_type": "stream",
          "text": [
            "Range of BloodPressure: 122\n"
          ]
        }
      ],
      "source": [
        "# What is the range\n",
        "\n",
        "# Calculate the range of the 'BloodPressure' column\n",
        "bp_range = bp_data.max() - bp_data.min()\n",
        "\n",
        "# Print the result\n",
        "print(\"Range of BloodPressure:\", bp_range)"
      ]
    },
    {
      "cell_type": "code",
      "execution_count": 15,
      "metadata": {
        "id": "-xur0_HmP25G"
      },
      "outputs": [
        {
          "data": {
            "text/plain": [
              "0    70\n",
              "Name: BloodPressure, dtype: int64"
            ]
          },
          "execution_count": 15,
          "metadata": {},
          "output_type": "execute_result"
        }
      ],
      "source": [
        "# Getting the mode\n",
        "bp_data.mode()"
      ]
    },
    {
      "cell_type": "markdown",
      "metadata": {
        "id": "LW4aKXeafcra"
      },
      "source": [
        "\n"
      ]
    },
    {
      "cell_type": "markdown",
      "metadata": {
        "id": "P8yFvPygTCq2"
      },
      "source": [
        "Let's use this  [data](https://drive.google.com/file/d/1wmbwbnZww7cue1FYr7aeATRAD611Kgla/view?usp=sharing) and with Pandas to answer several questions."
      ]
    },
    {
      "cell_type": "code",
      "execution_count": null,
      "metadata": {
        "id": "7i-MaONwU7JW"
      },
      "outputs": [],
      "source": [
        "# Connecting to google drive\n",
        "# from google.colab import drive\n",
        "# drive.mount('/content/drive')"
      ]
    },
    {
      "cell_type": "code",
      "execution_count": 16,
      "metadata": {
        "id": "EPmQXuKXeIfb"
      },
      "outputs": [],
      "source": [
        "# Import Pandas\n",
        "import pandas as pd"
      ]
    },
    {
      "cell_type": "code",
      "execution_count": 17,
      "metadata": {
        "id": "W0kw0e-fTaCV"
      },
      "outputs": [
        {
          "data": {
            "text/html": [
              "<div>\n",
              "<style scoped>\n",
              "    .dataframe tbody tr th:only-of-type {\n",
              "        vertical-align: middle;\n",
              "    }\n",
              "\n",
              "    .dataframe tbody tr th {\n",
              "        vertical-align: top;\n",
              "    }\n",
              "\n",
              "    .dataframe thead th {\n",
              "        text-align: right;\n",
              "    }\n",
              "</style>\n",
              "<table border=\"1\" class=\"dataframe\">\n",
              "  <thead>\n",
              "    <tr style=\"text-align: right;\">\n",
              "      <th></th>\n",
              "      <th>Item</th>\n",
              "      <th>Student</th>\n",
              "      <th>Packaging</th>\n",
              "      <th>Price</th>\n",
              "      <th>Expense</th>\n",
              "      <th>Quantity Sold (Day 1)</th>\n",
              "      <th>Quantity Sold (Day 2)</th>\n",
              "      <th>Quantity Sold (Day 3)</th>\n",
              "      <th>Quantity Sold (Day 4)</th>\n",
              "    </tr>\n",
              "  </thead>\n",
              "  <tbody>\n",
              "    <tr>\n",
              "      <th>0</th>\n",
              "      <td>brownie</td>\n",
              "      <td>Hugo</td>\n",
              "      <td>Individually Wrapped  (Plastic)</td>\n",
              "      <td>2.25</td>\n",
              "      <td>0.25</td>\n",
              "      <td>17</td>\n",
              "      <td>19</td>\n",
              "      <td>25</td>\n",
              "      <td>25</td>\n",
              "    </tr>\n",
              "    <tr>\n",
              "      <th>1</th>\n",
              "      <td>cookie</td>\n",
              "      <td>Sally</td>\n",
              "      <td>Individually Wrapped  (Plastic)</td>\n",
              "      <td>1.25</td>\n",
              "      <td>0.50</td>\n",
              "      <td>40</td>\n",
              "      <td>32</td>\n",
              "      <td>38</td>\n",
              "      <td>38</td>\n",
              "    </tr>\n",
              "    <tr>\n",
              "      <th>2</th>\n",
              "      <td>cake</td>\n",
              "      <td>Martina</td>\n",
              "      <td>Boxed (Clear Plastic)</td>\n",
              "      <td>9.50</td>\n",
              "      <td>5.00</td>\n",
              "      <td>1</td>\n",
              "      <td>2</td>\n",
              "      <td>0</td>\n",
              "      <td>0</td>\n",
              "    </tr>\n",
              "    <tr>\n",
              "      <th>3</th>\n",
              "      <td>cupcake</td>\n",
              "      <td>Joe</td>\n",
              "      <td>Boxed (Cardboard)</td>\n",
              "      <td>3.50</td>\n",
              "      <td>0.75</td>\n",
              "      <td>10</td>\n",
              "      <td>14</td>\n",
              "      <td>12</td>\n",
              "      <td>12</td>\n",
              "    </tr>\n",
              "    <tr>\n",
              "      <th>4</th>\n",
              "      <td>fudge</td>\n",
              "      <td>Hugo</td>\n",
              "      <td>Individually Wrapped (Foil)</td>\n",
              "      <td>3.00</td>\n",
              "      <td>1.00</td>\n",
              "      <td>0</td>\n",
              "      <td>20</td>\n",
              "      <td>22</td>\n",
              "      <td>22</td>\n",
              "    </tr>\n",
              "  </tbody>\n",
              "</table>\n",
              "</div>"
            ],
            "text/plain": [
              "      Item  Student                        Packaging  Price  Expense  \\\n",
              "0  brownie     Hugo  Individually Wrapped  (Plastic)   2.25     0.25   \n",
              "1   cookie    Sally  Individually Wrapped  (Plastic)   1.25     0.50   \n",
              "2     cake  Martina            Boxed (Clear Plastic)   9.50     5.00   \n",
              "3  cupcake      Joe                Boxed (Cardboard)   3.50     0.75   \n",
              "4    fudge     Hugo      Individually Wrapped (Foil)   3.00     1.00   \n",
              "\n",
              "   Quantity Sold (Day 1)  Quantity Sold (Day 2)  Quantity Sold (Day 3)  \\\n",
              "0                     17                     19                     25   \n",
              "1                     40                     32                     38   \n",
              "2                      1                      2                      0   \n",
              "3                     10                     14                     12   \n",
              "4                      0                     20                     22   \n",
              "\n",
              "   Quantity Sold (Day 4)  \n",
              "0                     25  \n",
              "1                     38  \n",
              "2                      0  \n",
              "3                     12  \n",
              "4                     22  "
            ]
          },
          "execution_count": 17,
          "metadata": {},
          "output_type": "execute_result"
        }
      ],
      "source": [
        "# Load the data\n",
        "filename1 = '../files/Sales.csv'\n",
        "df = pd.read_csv(filename1)\n",
        "\n",
        "df.head()"
      ]
    },
    {
      "cell_type": "markdown",
      "metadata": {
        "id": "6MZ1gvv3CQ_F"
      },
      "source": [
        "# Stakeholder Questions\n",
        "\n",
        "The club wants to reward students based on their contributions to the bake sale. The club needs answers to the following questions in order to determine the appropriate awards:\n",
        "\n",
        "1) How many different types of items did each student create for the bake sale? Which student provided the most Items?\n",
        "\n",
        "2) What was the total quantity of baked goods sold, by item? Which item sold the largest quantity?\n",
        "\n",
        "3) What were the total profits generated by each Item? Which Item generated the most total profit?\n",
        "\n",
        "4) Which student sold the largest quantity of items?\n",
        "\n",
        "5) Which student generated the most total profit?\n",
        "\n",
        "6) How much money has the club earned overall by the end of Day 4? How much more do they need to earn on Day 5 to meet their goal?"
      ]
    },
    {
      "cell_type": "code",
      "execution_count": 18,
      "metadata": {
        "id": "ExG1grNpYLQ-"
      },
      "outputs": [],
      "source": [
        "# Let us first set the item as the new index\n",
        "df.set_index('Item', inplace=True)"
      ]
    },
    {
      "cell_type": "code",
      "execution_count": 19,
      "metadata": {
        "id": "y4XXdwiEYS3_"
      },
      "outputs": [
        {
          "data": {
            "text/html": [
              "<div>\n",
              "<style scoped>\n",
              "    .dataframe tbody tr th:only-of-type {\n",
              "        vertical-align: middle;\n",
              "    }\n",
              "\n",
              "    .dataframe tbody tr th {\n",
              "        vertical-align: top;\n",
              "    }\n",
              "\n",
              "    .dataframe thead th {\n",
              "        text-align: right;\n",
              "    }\n",
              "</style>\n",
              "<table border=\"1\" class=\"dataframe\">\n",
              "  <thead>\n",
              "    <tr style=\"text-align: right;\">\n",
              "      <th></th>\n",
              "      <th>Student</th>\n",
              "      <th>Packaging</th>\n",
              "      <th>Price</th>\n",
              "      <th>Expense</th>\n",
              "      <th>Quantity Sold (Day 1)</th>\n",
              "      <th>Quantity Sold (Day 2)</th>\n",
              "      <th>Quantity Sold (Day 3)</th>\n",
              "      <th>Quantity Sold (Day 4)</th>\n",
              "    </tr>\n",
              "    <tr>\n",
              "      <th>Item</th>\n",
              "      <th></th>\n",
              "      <th></th>\n",
              "      <th></th>\n",
              "      <th></th>\n",
              "      <th></th>\n",
              "      <th></th>\n",
              "      <th></th>\n",
              "      <th></th>\n",
              "    </tr>\n",
              "  </thead>\n",
              "  <tbody>\n",
              "    <tr>\n",
              "      <th>brownie</th>\n",
              "      <td>Hugo</td>\n",
              "      <td>Individually Wrapped  (Plastic)</td>\n",
              "      <td>2.25</td>\n",
              "      <td>0.25</td>\n",
              "      <td>17</td>\n",
              "      <td>19</td>\n",
              "      <td>25</td>\n",
              "      <td>25</td>\n",
              "    </tr>\n",
              "    <tr>\n",
              "      <th>cookie</th>\n",
              "      <td>Sally</td>\n",
              "      <td>Individually Wrapped  (Plastic)</td>\n",
              "      <td>1.25</td>\n",
              "      <td>0.50</td>\n",
              "      <td>40</td>\n",
              "      <td>32</td>\n",
              "      <td>38</td>\n",
              "      <td>38</td>\n",
              "    </tr>\n",
              "    <tr>\n",
              "      <th>cake</th>\n",
              "      <td>Martina</td>\n",
              "      <td>Boxed (Clear Plastic)</td>\n",
              "      <td>9.50</td>\n",
              "      <td>5.00</td>\n",
              "      <td>1</td>\n",
              "      <td>2</td>\n",
              "      <td>0</td>\n",
              "      <td>0</td>\n",
              "    </tr>\n",
              "    <tr>\n",
              "      <th>cupcake</th>\n",
              "      <td>Joe</td>\n",
              "      <td>Boxed (Cardboard)</td>\n",
              "      <td>3.50</td>\n",
              "      <td>0.75</td>\n",
              "      <td>10</td>\n",
              "      <td>14</td>\n",
              "      <td>12</td>\n",
              "      <td>12</td>\n",
              "    </tr>\n",
              "    <tr>\n",
              "      <th>fudge</th>\n",
              "      <td>Hugo</td>\n",
              "      <td>Individually Wrapped (Foil)</td>\n",
              "      <td>3.00</td>\n",
              "      <td>1.00</td>\n",
              "      <td>0</td>\n",
              "      <td>20</td>\n",
              "      <td>22</td>\n",
              "      <td>22</td>\n",
              "    </tr>\n",
              "  </tbody>\n",
              "</table>\n",
              "</div>"
            ],
            "text/plain": [
              "         Student                        Packaging  Price  Expense  \\\n",
              "Item                                                                \n",
              "brownie     Hugo  Individually Wrapped  (Plastic)   2.25     0.25   \n",
              "cookie     Sally  Individually Wrapped  (Plastic)   1.25     0.50   \n",
              "cake     Martina            Boxed (Clear Plastic)   9.50     5.00   \n",
              "cupcake      Joe                Boxed (Cardboard)   3.50     0.75   \n",
              "fudge       Hugo      Individually Wrapped (Foil)   3.00     1.00   \n",
              "\n",
              "         Quantity Sold (Day 1)  Quantity Sold (Day 2)  Quantity Sold (Day 3)  \\\n",
              "Item                                                                           \n",
              "brownie                     17                     19                     25   \n",
              "cookie                      40                     32                     38   \n",
              "cake                         1                      2                      0   \n",
              "cupcake                     10                     14                     12   \n",
              "fudge                        0                     20                     22   \n",
              "\n",
              "         Quantity Sold (Day 4)  \n",
              "Item                            \n",
              "brownie                     25  \n",
              "cookie                      38  \n",
              "cake                         0  \n",
              "cupcake                     12  \n",
              "fudge                       22  "
            ]
          },
          "execution_count": 19,
          "metadata": {},
          "output_type": "execute_result"
        }
      ],
      "source": [
        "df.head()"
      ]
    },
    {
      "cell_type": "markdown",
      "metadata": {
        "id": "umETenZIWSoO"
      },
      "source": [
        "**1) How many different types of items did each student create for the bake sale? Which student provided the most Items?**  \n",
        "We can use the **.value_counts()** method which returns the unique occurances of each value"
      ]
    },
    {
      "cell_type": "code",
      "execution_count": 20,
      "metadata": {
        "id": "ZKGKeUwdWR8Y"
      },
      "outputs": [
        {
          "data": {
            "text/plain": [
              "Student\n",
              "Martina    3\n",
              "Hugo       2\n",
              "Sally      2\n",
              "Jade       2\n",
              "Joe        1\n",
              "Mark       1\n",
              "Anne       1\n",
              "Name: count, dtype: int64"
            ]
          },
          "execution_count": 20,
          "metadata": {},
          "output_type": "execute_result"
        }
      ],
      "source": [
        "# Get the unique values and their count for the Student column\n",
        "df[\"Student\"].value_counts()"
      ]
    },
    {
      "cell_type": "code",
      "execution_count": 21,
      "metadata": {
        "id": "EA-nDKvaWR-1"
      },
      "outputs": [
        {
          "data": {
            "text/plain": [
              "Student\n",
              "Martina    0.250000\n",
              "Hugo       0.166667\n",
              "Sally      0.166667\n",
              "Jade       0.166667\n",
              "Joe        0.083333\n",
              "Mark       0.083333\n",
              "Anne       0.083333\n",
              "Name: proportion, dtype: float64"
            ]
          },
          "execution_count": 21,
          "metadata": {},
          "output_type": "execute_result"
        }
      ],
      "source": [
        "# Use normalize = True to output a ratio/ fraction\n",
        "df[\"Student\"].value_counts(normalize=True)\n"
      ]
    },
    {
      "cell_type": "code",
      "execution_count": 22,
      "metadata": {
        "id": "2tHgMe8oWSBK"
      },
      "outputs": [
        {
          "data": {
            "text/plain": [
              "1.0"
            ]
          },
          "execution_count": 22,
          "metadata": {},
          "output_type": "execute_result"
        }
      ],
      "source": [
        "# proof\n",
        "df[\"Student\"].value_counts(normalize=True).sum()"
      ]
    },
    {
      "cell_type": "markdown",
      "metadata": {
        "id": "rC1ER2PuXGIg"
      },
      "source": [
        "2) What was the total quantity of baked goods sold, by item? Which item sold the largest quantity?  \n",
        "\n",
        "In order for us to answer the next question about which student sold the largest quantity of items across days 1-4.\n",
        "\n",
        "We can calculate this by leveraging Pandas' integration of NumPy aggregation functions/methods.\n",
        "\n",
        "Pandas has many aggregation methods included, here is a table with the most common aggregation functions.\n",
        "<img src=\"https://assets.codingdojo.com/boomyeah2015/codingdojo/curriculum/content/chapter/1680737011__Capture.PNG\">"
      ]
    },
    {
      "cell_type": "markdown",
      "metadata": {
        "id": "b4OHukOPXjRV"
      },
      "source": [
        "We want to calculate the total sales for the 4 days of the bake sale thus far and to calculate the club's total profit the evening before the final day of the bake sale.\n",
        "\n",
        "Let's first apply slicing and filtering to create a list of column names that only contain the word \"Quantity\"."
      ]
    },
    {
      "cell_type": "code",
      "execution_count": 23,
      "metadata": {
        "id": "jmxtsNZbWSDg"
      },
      "outputs": [
        {
          "data": {
            "text/plain": [
              "Index(['Quantity Sold (Day 1)', 'Quantity Sold (Day 2)',\n",
              "       'Quantity Sold (Day 3)', 'Quantity Sold (Day 4)'],\n",
              "      dtype='object')"
            ]
          },
          "execution_count": 23,
          "metadata": {},
          "output_type": "execute_result"
        }
      ],
      "source": [
        "# select quantity columns using .str.contains\n",
        "columns = df.columns\n",
        "filter_quantity_cols = columns[columns.str.contains('Quantity')]\n",
        "filter_quantity_cols"
      ]
    },
    {
      "cell_type": "code",
      "execution_count": 24,
      "metadata": {
        "id": "U9LT69EzWSF4"
      },
      "outputs": [
        {
          "data": {
            "text/html": [
              "<div>\n",
              "<style scoped>\n",
              "    .dataframe tbody tr th:only-of-type {\n",
              "        vertical-align: middle;\n",
              "    }\n",
              "\n",
              "    .dataframe tbody tr th {\n",
              "        vertical-align: top;\n",
              "    }\n",
              "\n",
              "    .dataframe thead th {\n",
              "        text-align: right;\n",
              "    }\n",
              "</style>\n",
              "<table border=\"1\" class=\"dataframe\">\n",
              "  <thead>\n",
              "    <tr style=\"text-align: right;\">\n",
              "      <th></th>\n",
              "      <th>Quantity Sold (Day 1)</th>\n",
              "      <th>Quantity Sold (Day 2)</th>\n",
              "      <th>Quantity Sold (Day 3)</th>\n",
              "      <th>Quantity Sold (Day 4)</th>\n",
              "    </tr>\n",
              "    <tr>\n",
              "      <th>Item</th>\n",
              "      <th></th>\n",
              "      <th></th>\n",
              "      <th></th>\n",
              "      <th></th>\n",
              "    </tr>\n",
              "  </thead>\n",
              "  <tbody>\n",
              "    <tr>\n",
              "      <th>brownie</th>\n",
              "      <td>17</td>\n",
              "      <td>19</td>\n",
              "      <td>25</td>\n",
              "      <td>25</td>\n",
              "    </tr>\n",
              "    <tr>\n",
              "      <th>cookie</th>\n",
              "      <td>40</td>\n",
              "      <td>32</td>\n",
              "      <td>38</td>\n",
              "      <td>38</td>\n",
              "    </tr>\n",
              "    <tr>\n",
              "      <th>cake</th>\n",
              "      <td>1</td>\n",
              "      <td>2</td>\n",
              "      <td>0</td>\n",
              "      <td>0</td>\n",
              "    </tr>\n",
              "    <tr>\n",
              "      <th>cupcake</th>\n",
              "      <td>10</td>\n",
              "      <td>14</td>\n",
              "      <td>12</td>\n",
              "      <td>12</td>\n",
              "    </tr>\n",
              "    <tr>\n",
              "      <th>fudge</th>\n",
              "      <td>0</td>\n",
              "      <td>20</td>\n",
              "      <td>22</td>\n",
              "      <td>22</td>\n",
              "    </tr>\n",
              "    <tr>\n",
              "      <th>banana bread</th>\n",
              "      <td>0</td>\n",
              "      <td>10</td>\n",
              "      <td>13</td>\n",
              "      <td>13</td>\n",
              "    </tr>\n",
              "    <tr>\n",
              "      <th>torte</th>\n",
              "      <td>0</td>\n",
              "      <td>5</td>\n",
              "      <td>7</td>\n",
              "      <td>7</td>\n",
              "    </tr>\n",
              "    <tr>\n",
              "      <th>scone</th>\n",
              "      <td>0</td>\n",
              "      <td>8</td>\n",
              "      <td>10</td>\n",
              "      <td>10</td>\n",
              "    </tr>\n",
              "    <tr>\n",
              "      <th>muffin</th>\n",
              "      <td>0</td>\n",
              "      <td>3</td>\n",
              "      <td>4</td>\n",
              "      <td>4</td>\n",
              "    </tr>\n",
              "    <tr>\n",
              "      <th>rice krispies treats</th>\n",
              "      <td>0</td>\n",
              "      <td>0</td>\n",
              "      <td>10</td>\n",
              "      <td>30</td>\n",
              "    </tr>\n",
              "    <tr>\n",
              "      <th>apple pie</th>\n",
              "      <td>0</td>\n",
              "      <td>0</td>\n",
              "      <td>2</td>\n",
              "      <td>3</td>\n",
              "    </tr>\n",
              "    <tr>\n",
              "      <th>key lime pie</th>\n",
              "      <td>0</td>\n",
              "      <td>0</td>\n",
              "      <td>3</td>\n",
              "      <td>3</td>\n",
              "    </tr>\n",
              "  </tbody>\n",
              "</table>\n",
              "</div>"
            ],
            "text/plain": [
              "                      Quantity Sold (Day 1)  Quantity Sold (Day 2)  \\\n",
              "Item                                                                 \n",
              "brownie                                  17                     19   \n",
              "cookie                                   40                     32   \n",
              "cake                                      1                      2   \n",
              "cupcake                                  10                     14   \n",
              "fudge                                     0                     20   \n",
              "banana bread                              0                     10   \n",
              "torte                                     0                      5   \n",
              "scone                                     0                      8   \n",
              "muffin                                    0                      3   \n",
              "rice krispies treats                      0                      0   \n",
              "apple pie                                 0                      0   \n",
              "key lime pie                              0                      0   \n",
              "\n",
              "                      Quantity Sold (Day 3)  Quantity Sold (Day 4)  \n",
              "Item                                                                \n",
              "brownie                                  25                     25  \n",
              "cookie                                   38                     38  \n",
              "cake                                      0                      0  \n",
              "cupcake                                  12                     12  \n",
              "fudge                                    22                     22  \n",
              "banana bread                             13                     13  \n",
              "torte                                     7                      7  \n",
              "scone                                    10                     10  \n",
              "muffin                                    4                      4  \n",
              "rice krispies treats                     10                     30  \n",
              "apple pie                                 2                      3  \n",
              "key lime pie                              3                      3  "
            ]
          },
          "execution_count": 24,
          "metadata": {},
          "output_type": "execute_result"
        }
      ],
      "source": [
        "# Filter the dataframe\n",
        "df[filter_quantity_cols]"
      ]
    },
    {
      "cell_type": "code",
      "execution_count": 25,
      "metadata": {
        "id": "ED-gNo5iWSId"
      },
      "outputs": [
        {
          "data": {
            "text/plain": [
              "Quantity Sold (Day 1)     68\n",
              "Quantity Sold (Day 2)    113\n",
              "Quantity Sold (Day 3)    146\n",
              "Quantity Sold (Day 4)    167\n",
              "dtype: int64"
            ]
          },
          "execution_count": 25,
          "metadata": {},
          "output_type": "execute_result"
        }
      ],
      "source": [
        "# Get the sum by column\n",
        "df[filter_quantity_cols].sum()"
      ]
    },
    {
      "cell_type": "code",
      "execution_count": 26,
      "metadata": {
        "id": "i5MBuJPGWSK1"
      },
      "outputs": [
        {
          "data": {
            "text/plain": [
              "Item\n",
              "brownie                  86\n",
              "cookie                  148\n",
              "cake                      3\n",
              "cupcake                  48\n",
              "fudge                    64\n",
              "banana bread             36\n",
              "torte                    19\n",
              "scone                    28\n",
              "muffin                   11\n",
              "rice krispies treats     40\n",
              "apple pie                 5\n",
              "key lime pie              6\n",
              "dtype: int64"
            ]
          },
          "execution_count": 26,
          "metadata": {},
          "output_type": "execute_result"
        }
      ],
      "source": [
        "# Obtain the sum across rows by passing 1 for the axis argument\n",
        "df[filter_quantity_cols].sum(axis=1)"
      ]
    },
    {
      "cell_type": "code",
      "execution_count": 27,
      "metadata": {
        "id": "-fIVTpF4WSNX"
      },
      "outputs": [
        {
          "data": {
            "text/html": [
              "<div>\n",
              "<style scoped>\n",
              "    .dataframe tbody tr th:only-of-type {\n",
              "        vertical-align: middle;\n",
              "    }\n",
              "\n",
              "    .dataframe tbody tr th {\n",
              "        vertical-align: top;\n",
              "    }\n",
              "\n",
              "    .dataframe thead th {\n",
              "        text-align: right;\n",
              "    }\n",
              "</style>\n",
              "<table border=\"1\" class=\"dataframe\">\n",
              "  <thead>\n",
              "    <tr style=\"text-align: right;\">\n",
              "      <th></th>\n",
              "      <th>Student</th>\n",
              "      <th>Packaging</th>\n",
              "      <th>Price</th>\n",
              "      <th>Expense</th>\n",
              "      <th>Quantity Sold (Day 1)</th>\n",
              "      <th>Quantity Sold (Day 2)</th>\n",
              "      <th>Quantity Sold (Day 3)</th>\n",
              "      <th>Quantity Sold (Day 4)</th>\n",
              "      <th>Cumulative Quantity (Day 4)</th>\n",
              "    </tr>\n",
              "    <tr>\n",
              "      <th>Item</th>\n",
              "      <th></th>\n",
              "      <th></th>\n",
              "      <th></th>\n",
              "      <th></th>\n",
              "      <th></th>\n",
              "      <th></th>\n",
              "      <th></th>\n",
              "      <th></th>\n",
              "      <th></th>\n",
              "    </tr>\n",
              "  </thead>\n",
              "  <tbody>\n",
              "    <tr>\n",
              "      <th>brownie</th>\n",
              "      <td>Hugo</td>\n",
              "      <td>Individually Wrapped  (Plastic)</td>\n",
              "      <td>2.25</td>\n",
              "      <td>0.25</td>\n",
              "      <td>17</td>\n",
              "      <td>19</td>\n",
              "      <td>25</td>\n",
              "      <td>25</td>\n",
              "      <td>86</td>\n",
              "    </tr>\n",
              "    <tr>\n",
              "      <th>cookie</th>\n",
              "      <td>Sally</td>\n",
              "      <td>Individually Wrapped  (Plastic)</td>\n",
              "      <td>1.25</td>\n",
              "      <td>0.50</td>\n",
              "      <td>40</td>\n",
              "      <td>32</td>\n",
              "      <td>38</td>\n",
              "      <td>38</td>\n",
              "      <td>148</td>\n",
              "    </tr>\n",
              "    <tr>\n",
              "      <th>cake</th>\n",
              "      <td>Martina</td>\n",
              "      <td>Boxed (Clear Plastic)</td>\n",
              "      <td>9.50</td>\n",
              "      <td>5.00</td>\n",
              "      <td>1</td>\n",
              "      <td>2</td>\n",
              "      <td>0</td>\n",
              "      <td>0</td>\n",
              "      <td>3</td>\n",
              "    </tr>\n",
              "    <tr>\n",
              "      <th>cupcake</th>\n",
              "      <td>Joe</td>\n",
              "      <td>Boxed (Cardboard)</td>\n",
              "      <td>3.50</td>\n",
              "      <td>0.75</td>\n",
              "      <td>10</td>\n",
              "      <td>14</td>\n",
              "      <td>12</td>\n",
              "      <td>12</td>\n",
              "      <td>48</td>\n",
              "    </tr>\n",
              "    <tr>\n",
              "      <th>fudge</th>\n",
              "      <td>Hugo</td>\n",
              "      <td>Individually Wrapped (Foil)</td>\n",
              "      <td>3.00</td>\n",
              "      <td>1.00</td>\n",
              "      <td>0</td>\n",
              "      <td>20</td>\n",
              "      <td>22</td>\n",
              "      <td>22</td>\n",
              "      <td>64</td>\n",
              "    </tr>\n",
              "  </tbody>\n",
              "</table>\n",
              "</div>"
            ],
            "text/plain": [
              "         Student                        Packaging  Price  Expense  \\\n",
              "Item                                                                \n",
              "brownie     Hugo  Individually Wrapped  (Plastic)   2.25     0.25   \n",
              "cookie     Sally  Individually Wrapped  (Plastic)   1.25     0.50   \n",
              "cake     Martina            Boxed (Clear Plastic)   9.50     5.00   \n",
              "cupcake      Joe                Boxed (Cardboard)   3.50     0.75   \n",
              "fudge       Hugo      Individually Wrapped (Foil)   3.00     1.00   \n",
              "\n",
              "         Quantity Sold (Day 1)  Quantity Sold (Day 2)  Quantity Sold (Day 3)  \\\n",
              "Item                                                                           \n",
              "brownie                     17                     19                     25   \n",
              "cookie                      40                     32                     38   \n",
              "cake                         1                      2                      0   \n",
              "cupcake                     10                     14                     12   \n",
              "fudge                        0                     20                     22   \n",
              "\n",
              "         Quantity Sold (Day 4)  Cumulative Quantity (Day 4)  \n",
              "Item                                                         \n",
              "brownie                     25                           86  \n",
              "cookie                      38                          148  \n",
              "cake                         0                            3  \n",
              "cupcake                     12                           48  \n",
              "fudge                       22                           64  "
            ]
          },
          "execution_count": 27,
          "metadata": {},
          "output_type": "execute_result"
        }
      ],
      "source": [
        "# Add a column to include the cumulative quantity\n",
        "df['Cumulative Quantity (Day 4)'] = df[filter_quantity_cols].sum(axis=1)\n",
        "df.head()"
      ]
    },
    {
      "cell_type": "code",
      "execution_count": 28,
      "metadata": {
        "id": "InbUb-WUYw9G"
      },
      "outputs": [
        {
          "data": {
            "text/plain": [
              "Item\n",
              "cookie                  148\n",
              "brownie                  86\n",
              "fudge                    64\n",
              "cupcake                  48\n",
              "rice krispies treats     40\n",
              "banana bread             36\n",
              "scone                    28\n",
              "torte                    19\n",
              "muffin                   11\n",
              "key lime pie              6\n",
              "apple pie                 5\n",
              "cake                      3\n",
              "Name: Cumulative Quantity (Day 4), dtype: int64"
            ]
          },
          "execution_count": 28,
          "metadata": {},
          "output_type": "execute_result"
        }
      ],
      "source": [
        "# Sort the cumulative values from high to low for better presentation\n",
        "df['Cumulative Quantity (Day 4)'].sort_values(ascending=False)"
      ]
    },
    {
      "cell_type": "markdown",
      "metadata": {
        "id": "ctjVi-EfZBZH"
      },
      "source": [
        "**3) What were the total profits generated by each Item? Which Item generated the most total profit?**  \n",
        "We shall first get the profit for each item.  \n",
        "\n",
        "To calculate the cumulative profit for each baked good at the end of day 4,  multiply the cumulative quantity column by our Profit Per Item Column.   \n",
        "We will add the result to a new column in the dataframe called \"Cumulative Profit (Day 4)\""
      ]
    },
    {
      "cell_type": "code",
      "execution_count": 29,
      "metadata": {
        "id": "WrCU-m1dZzP2"
      },
      "outputs": [],
      "source": [
        "# Getting Profit per Item\n",
        "df[\"Profit per Item\"] = df['Price'] - df['Expense']"
      ]
    },
    {
      "cell_type": "code",
      "execution_count": 30,
      "metadata": {
        "id": "0DYkrHQCZ-9l"
      },
      "outputs": [
        {
          "data": {
            "text/html": [
              "<div>\n",
              "<style scoped>\n",
              "    .dataframe tbody tr th:only-of-type {\n",
              "        vertical-align: middle;\n",
              "    }\n",
              "\n",
              "    .dataframe tbody tr th {\n",
              "        vertical-align: top;\n",
              "    }\n",
              "\n",
              "    .dataframe thead th {\n",
              "        text-align: right;\n",
              "    }\n",
              "</style>\n",
              "<table border=\"1\" class=\"dataframe\">\n",
              "  <thead>\n",
              "    <tr style=\"text-align: right;\">\n",
              "      <th></th>\n",
              "      <th>Student</th>\n",
              "      <th>Packaging</th>\n",
              "      <th>Price</th>\n",
              "      <th>Expense</th>\n",
              "      <th>Quantity Sold (Day 1)</th>\n",
              "      <th>Quantity Sold (Day 2)</th>\n",
              "      <th>Quantity Sold (Day 3)</th>\n",
              "      <th>Quantity Sold (Day 4)</th>\n",
              "      <th>Cumulative Quantity (Day 4)</th>\n",
              "      <th>Profit per Item</th>\n",
              "    </tr>\n",
              "    <tr>\n",
              "      <th>Item</th>\n",
              "      <th></th>\n",
              "      <th></th>\n",
              "      <th></th>\n",
              "      <th></th>\n",
              "      <th></th>\n",
              "      <th></th>\n",
              "      <th></th>\n",
              "      <th></th>\n",
              "      <th></th>\n",
              "      <th></th>\n",
              "    </tr>\n",
              "  </thead>\n",
              "  <tbody>\n",
              "    <tr>\n",
              "      <th>brownie</th>\n",
              "      <td>Hugo</td>\n",
              "      <td>Individually Wrapped  (Plastic)</td>\n",
              "      <td>2.25</td>\n",
              "      <td>0.25</td>\n",
              "      <td>17</td>\n",
              "      <td>19</td>\n",
              "      <td>25</td>\n",
              "      <td>25</td>\n",
              "      <td>86</td>\n",
              "      <td>2.00</td>\n",
              "    </tr>\n",
              "    <tr>\n",
              "      <th>cookie</th>\n",
              "      <td>Sally</td>\n",
              "      <td>Individually Wrapped  (Plastic)</td>\n",
              "      <td>1.25</td>\n",
              "      <td>0.50</td>\n",
              "      <td>40</td>\n",
              "      <td>32</td>\n",
              "      <td>38</td>\n",
              "      <td>38</td>\n",
              "      <td>148</td>\n",
              "      <td>0.75</td>\n",
              "    </tr>\n",
              "    <tr>\n",
              "      <th>cake</th>\n",
              "      <td>Martina</td>\n",
              "      <td>Boxed (Clear Plastic)</td>\n",
              "      <td>9.50</td>\n",
              "      <td>5.00</td>\n",
              "      <td>1</td>\n",
              "      <td>2</td>\n",
              "      <td>0</td>\n",
              "      <td>0</td>\n",
              "      <td>3</td>\n",
              "      <td>4.50</td>\n",
              "    </tr>\n",
              "  </tbody>\n",
              "</table>\n",
              "</div>"
            ],
            "text/plain": [
              "         Student                        Packaging  Price  Expense  \\\n",
              "Item                                                                \n",
              "brownie     Hugo  Individually Wrapped  (Plastic)   2.25     0.25   \n",
              "cookie     Sally  Individually Wrapped  (Plastic)   1.25     0.50   \n",
              "cake     Martina            Boxed (Clear Plastic)   9.50     5.00   \n",
              "\n",
              "         Quantity Sold (Day 1)  Quantity Sold (Day 2)  Quantity Sold (Day 3)  \\\n",
              "Item                                                                           \n",
              "brownie                     17                     19                     25   \n",
              "cookie                      40                     32                     38   \n",
              "cake                         1                      2                      0   \n",
              "\n",
              "         Quantity Sold (Day 4)  Cumulative Quantity (Day 4)  Profit per Item  \n",
              "Item                                                                          \n",
              "brownie                     25                           86             2.00  \n",
              "cookie                      38                          148             0.75  \n",
              "cake                         0                            3             4.50  "
            ]
          },
          "execution_count": 30,
          "metadata": {},
          "output_type": "execute_result"
        }
      ],
      "source": [
        "df.head(3)"
      ]
    },
    {
      "cell_type": "code",
      "execution_count": 31,
      "metadata": {
        "id": "g0wHRZwIYyN3"
      },
      "outputs": [
        {
          "data": {
            "text/html": [
              "<div>\n",
              "<style scoped>\n",
              "    .dataframe tbody tr th:only-of-type {\n",
              "        vertical-align: middle;\n",
              "    }\n",
              "\n",
              "    .dataframe tbody tr th {\n",
              "        vertical-align: top;\n",
              "    }\n",
              "\n",
              "    .dataframe thead th {\n",
              "        text-align: right;\n",
              "    }\n",
              "</style>\n",
              "<table border=\"1\" class=\"dataframe\">\n",
              "  <thead>\n",
              "    <tr style=\"text-align: right;\">\n",
              "      <th></th>\n",
              "      <th>Student</th>\n",
              "      <th>Packaging</th>\n",
              "      <th>Price</th>\n",
              "      <th>Expense</th>\n",
              "      <th>Quantity Sold (Day 1)</th>\n",
              "      <th>Quantity Sold (Day 2)</th>\n",
              "      <th>Quantity Sold (Day 3)</th>\n",
              "      <th>Quantity Sold (Day 4)</th>\n",
              "      <th>Cumulative Quantity (Day 4)</th>\n",
              "      <th>Profit per Item</th>\n",
              "      <th>Cumulative Profit (Day 4)</th>\n",
              "    </tr>\n",
              "    <tr>\n",
              "      <th>Item</th>\n",
              "      <th></th>\n",
              "      <th></th>\n",
              "      <th></th>\n",
              "      <th></th>\n",
              "      <th></th>\n",
              "      <th></th>\n",
              "      <th></th>\n",
              "      <th></th>\n",
              "      <th></th>\n",
              "      <th></th>\n",
              "      <th></th>\n",
              "    </tr>\n",
              "  </thead>\n",
              "  <tbody>\n",
              "    <tr>\n",
              "      <th>brownie</th>\n",
              "      <td>Hugo</td>\n",
              "      <td>Individually Wrapped  (Plastic)</td>\n",
              "      <td>2.25</td>\n",
              "      <td>0.25</td>\n",
              "      <td>17</td>\n",
              "      <td>19</td>\n",
              "      <td>25</td>\n",
              "      <td>25</td>\n",
              "      <td>86</td>\n",
              "      <td>2.00</td>\n",
              "      <td>172.0</td>\n",
              "    </tr>\n",
              "    <tr>\n",
              "      <th>cookie</th>\n",
              "      <td>Sally</td>\n",
              "      <td>Individually Wrapped  (Plastic)</td>\n",
              "      <td>1.25</td>\n",
              "      <td>0.50</td>\n",
              "      <td>40</td>\n",
              "      <td>32</td>\n",
              "      <td>38</td>\n",
              "      <td>38</td>\n",
              "      <td>148</td>\n",
              "      <td>0.75</td>\n",
              "      <td>111.0</td>\n",
              "    </tr>\n",
              "    <tr>\n",
              "      <th>cake</th>\n",
              "      <td>Martina</td>\n",
              "      <td>Boxed (Clear Plastic)</td>\n",
              "      <td>9.50</td>\n",
              "      <td>5.00</td>\n",
              "      <td>1</td>\n",
              "      <td>2</td>\n",
              "      <td>0</td>\n",
              "      <td>0</td>\n",
              "      <td>3</td>\n",
              "      <td>4.50</td>\n",
              "      <td>13.5</td>\n",
              "    </tr>\n",
              "    <tr>\n",
              "      <th>cupcake</th>\n",
              "      <td>Joe</td>\n",
              "      <td>Boxed (Cardboard)</td>\n",
              "      <td>3.50</td>\n",
              "      <td>0.75</td>\n",
              "      <td>10</td>\n",
              "      <td>14</td>\n",
              "      <td>12</td>\n",
              "      <td>12</td>\n",
              "      <td>48</td>\n",
              "      <td>2.75</td>\n",
              "      <td>132.0</td>\n",
              "    </tr>\n",
              "    <tr>\n",
              "      <th>fudge</th>\n",
              "      <td>Hugo</td>\n",
              "      <td>Individually Wrapped (Foil)</td>\n",
              "      <td>3.00</td>\n",
              "      <td>1.00</td>\n",
              "      <td>0</td>\n",
              "      <td>20</td>\n",
              "      <td>22</td>\n",
              "      <td>22</td>\n",
              "      <td>64</td>\n",
              "      <td>2.00</td>\n",
              "      <td>128.0</td>\n",
              "    </tr>\n",
              "  </tbody>\n",
              "</table>\n",
              "</div>"
            ],
            "text/plain": [
              "         Student                        Packaging  Price  Expense  \\\n",
              "Item                                                                \n",
              "brownie     Hugo  Individually Wrapped  (Plastic)   2.25     0.25   \n",
              "cookie     Sally  Individually Wrapped  (Plastic)   1.25     0.50   \n",
              "cake     Martina            Boxed (Clear Plastic)   9.50     5.00   \n",
              "cupcake      Joe                Boxed (Cardboard)   3.50     0.75   \n",
              "fudge       Hugo      Individually Wrapped (Foil)   3.00     1.00   \n",
              "\n",
              "         Quantity Sold (Day 1)  Quantity Sold (Day 2)  Quantity Sold (Day 3)  \\\n",
              "Item                                                                           \n",
              "brownie                     17                     19                     25   \n",
              "cookie                      40                     32                     38   \n",
              "cake                         1                      2                      0   \n",
              "cupcake                     10                     14                     12   \n",
              "fudge                        0                     20                     22   \n",
              "\n",
              "         Quantity Sold (Day 4)  Cumulative Quantity (Day 4)  Profit per Item  \\\n",
              "Item                                                                           \n",
              "brownie                     25                           86             2.00   \n",
              "cookie                      38                          148             0.75   \n",
              "cake                         0                            3             4.50   \n",
              "cupcake                     12                           48             2.75   \n",
              "fudge                       22                           64             2.00   \n",
              "\n",
              "         Cumulative Profit (Day 4)  \n",
              "Item                                \n",
              "brownie                      172.0  \n",
              "cookie                       111.0  \n",
              "cake                          13.5  \n",
              "cupcake                      132.0  \n",
              "fudge                        128.0  "
            ]
          },
          "execution_count": 31,
          "metadata": {},
          "output_type": "execute_result"
        }
      ],
      "source": [
        "# Multiply two cumulative quantity by profit per item to get cumulative profit\n",
        "df['Cumulative Profit (Day 4)'] = df['Cumulative Quantity (Day 4)']  * df['Profit per Item']\n",
        "df.head()"
      ]
    },
    {
      "cell_type": "code",
      "execution_count": 32,
      "metadata": {
        "id": "e5SZH8ZEYyQX"
      },
      "outputs": [
        {
          "data": {
            "text/plain": [
              "Item\n",
              "brownie                 172.00\n",
              "cupcake                 132.00\n",
              "fudge                   128.00\n",
              "cookie                  111.00\n",
              "torte                    95.00\n",
              "banana bread             81.00\n",
              "rice krispies treats     40.00\n",
              "apple pie                30.00\n",
              "key lime pie             30.00\n",
              "scone                    21.00\n",
              "cake                     13.50\n",
              "muffin                    8.25\n",
              "Name: Cumulative Profit (Day 4), dtype: float64"
            ]
          },
          "execution_count": 32,
          "metadata": {},
          "output_type": "execute_result"
        }
      ],
      "source": [
        "# Show the cumulative profit in ascending order?\n",
        "df['Cumulative Profit (Day 4)'].sort_values(ascending=False)"
      ]
    },
    {
      "cell_type": "markdown",
      "metadata": {
        "id": "sZ9n9QckaTEb"
      },
      "source": [
        "**4) Which student sold the largest quantity of items?**  \n",
        "To address this question we will group our data by Student. We use .sum() as the aggregation calculation."
      ]
    },
    {
      "cell_type": "markdown",
      "metadata": {
        "id": "9F1vh-gwaXc-"
      },
      "source": [
        "**Pandas Groupby**  \n",
        "Pandas makes it very easy to calculate aggregations grouped by one or more columns.\n",
        "\n",
        "To use groupby:\n",
        "\n",
        "* start with a dataframe (not a Series/single column)\n",
        "* followed by groupby()with the names of the column(s) included in the parenthesis\n",
        "* an aggregation method such as .sum()"
      ]
    },
    {
      "cell_type": "code",
      "execution_count": 33,
      "metadata": {
        "id": "-pkgaGmwYyS4"
      },
      "outputs": [
        {
          "data": {
            "text/html": [
              "<div>\n",
              "<style scoped>\n",
              "    .dataframe tbody tr th:only-of-type {\n",
              "        vertical-align: middle;\n",
              "    }\n",
              "\n",
              "    .dataframe tbody tr th {\n",
              "        vertical-align: top;\n",
              "    }\n",
              "\n",
              "    .dataframe thead th {\n",
              "        text-align: right;\n",
              "    }\n",
              "</style>\n",
              "<table border=\"1\" class=\"dataframe\">\n",
              "  <thead>\n",
              "    <tr style=\"text-align: right;\">\n",
              "      <th></th>\n",
              "      <th>Packaging</th>\n",
              "      <th>Price</th>\n",
              "      <th>Expense</th>\n",
              "      <th>Quantity Sold (Day 1)</th>\n",
              "      <th>Quantity Sold (Day 2)</th>\n",
              "      <th>Quantity Sold (Day 3)</th>\n",
              "      <th>Quantity Sold (Day 4)</th>\n",
              "      <th>Cumulative Quantity (Day 4)</th>\n",
              "      <th>Profit per Item</th>\n",
              "      <th>Cumulative Profit (Day 4)</th>\n",
              "    </tr>\n",
              "    <tr>\n",
              "      <th>Student</th>\n",
              "      <th></th>\n",
              "      <th></th>\n",
              "      <th></th>\n",
              "      <th></th>\n",
              "      <th></th>\n",
              "      <th></th>\n",
              "      <th></th>\n",
              "      <th></th>\n",
              "      <th></th>\n",
              "      <th></th>\n",
              "    </tr>\n",
              "  </thead>\n",
              "  <tbody>\n",
              "    <tr>\n",
              "      <th>Anne</th>\n",
              "      <td>Individually Wrapped (Foil)</td>\n",
              "      <td>1.50</td>\n",
              "      <td>0.75</td>\n",
              "      <td>0</td>\n",
              "      <td>3</td>\n",
              "      <td>4</td>\n",
              "      <td>4</td>\n",
              "      <td>11</td>\n",
              "      <td>0.75</td>\n",
              "      <td>8.25</td>\n",
              "    </tr>\n",
              "    <tr>\n",
              "      <th>Hugo</th>\n",
              "      <td>Individually Wrapped  (Plastic)Individually Wr...</td>\n",
              "      <td>5.25</td>\n",
              "      <td>1.25</td>\n",
              "      <td>17</td>\n",
              "      <td>39</td>\n",
              "      <td>47</td>\n",
              "      <td>47</td>\n",
              "      <td>150</td>\n",
              "      <td>4.00</td>\n",
              "      <td>300.00</td>\n",
              "    </tr>\n",
              "    <tr>\n",
              "      <th>Jade</th>\n",
              "      <td>Boxed (Clear Plastic)Individually Wrapped  (Pl...</td>\n",
              "      <td>12.50</td>\n",
              "      <td>6.75</td>\n",
              "      <td>0</td>\n",
              "      <td>13</td>\n",
              "      <td>17</td>\n",
              "      <td>17</td>\n",
              "      <td>47</td>\n",
              "      <td>5.75</td>\n",
              "      <td>116.00</td>\n",
              "    </tr>\n",
              "    <tr>\n",
              "      <th>Joe</th>\n",
              "      <td>Boxed (Cardboard)</td>\n",
              "      <td>3.50</td>\n",
              "      <td>0.75</td>\n",
              "      <td>10</td>\n",
              "      <td>14</td>\n",
              "      <td>12</td>\n",
              "      <td>12</td>\n",
              "      <td>48</td>\n",
              "      <td>2.75</td>\n",
              "      <td>132.00</td>\n",
              "    </tr>\n",
              "    <tr>\n",
              "      <th>Mark</th>\n",
              "      <td>Individually Wrapped (Foil)</td>\n",
              "      <td>2.75</td>\n",
              "      <td>0.50</td>\n",
              "      <td>0</td>\n",
              "      <td>10</td>\n",
              "      <td>13</td>\n",
              "      <td>13</td>\n",
              "      <td>36</td>\n",
              "      <td>2.25</td>\n",
              "      <td>81.00</td>\n",
              "    </tr>\n",
              "    <tr>\n",
              "      <th>Martina</th>\n",
              "      <td>Boxed (Clear Plastic)Individually Wrapped  (Pl...</td>\n",
              "      <td>20.25</td>\n",
              "      <td>9.75</td>\n",
              "      <td>1</td>\n",
              "      <td>2</td>\n",
              "      <td>13</td>\n",
              "      <td>33</td>\n",
              "      <td>49</td>\n",
              "      <td>10.50</td>\n",
              "      <td>83.50</td>\n",
              "    </tr>\n",
              "    <tr>\n",
              "      <th>Sally</th>\n",
              "      <td>Individually Wrapped  (Plastic)Box (Cardboard)</td>\n",
              "      <td>11.25</td>\n",
              "      <td>4.50</td>\n",
              "      <td>40</td>\n",
              "      <td>32</td>\n",
              "      <td>40</td>\n",
              "      <td>41</td>\n",
              "      <td>153</td>\n",
              "      <td>6.75</td>\n",
              "      <td>141.00</td>\n",
              "    </tr>\n",
              "  </tbody>\n",
              "</table>\n",
              "</div>"
            ],
            "text/plain": [
              "                                                 Packaging  Price  Expense  \\\n",
              "Student                                                                      \n",
              "Anne                           Individually Wrapped (Foil)   1.50     0.75   \n",
              "Hugo     Individually Wrapped  (Plastic)Individually Wr...   5.25     1.25   \n",
              "Jade     Boxed (Clear Plastic)Individually Wrapped  (Pl...  12.50     6.75   \n",
              "Joe                                      Boxed (Cardboard)   3.50     0.75   \n",
              "Mark                           Individually Wrapped (Foil)   2.75     0.50   \n",
              "Martina  Boxed (Clear Plastic)Individually Wrapped  (Pl...  20.25     9.75   \n",
              "Sally       Individually Wrapped  (Plastic)Box (Cardboard)  11.25     4.50   \n",
              "\n",
              "         Quantity Sold (Day 1)  Quantity Sold (Day 2)  Quantity Sold (Day 3)  \\\n",
              "Student                                                                        \n",
              "Anne                         0                      3                      4   \n",
              "Hugo                        17                     39                     47   \n",
              "Jade                         0                     13                     17   \n",
              "Joe                         10                     14                     12   \n",
              "Mark                         0                     10                     13   \n",
              "Martina                      1                      2                     13   \n",
              "Sally                       40                     32                     40   \n",
              "\n",
              "         Quantity Sold (Day 4)  Cumulative Quantity (Day 4)  Profit per Item  \\\n",
              "Student                                                                        \n",
              "Anne                         4                           11             0.75   \n",
              "Hugo                        47                          150             4.00   \n",
              "Jade                        17                           47             5.75   \n",
              "Joe                         12                           48             2.75   \n",
              "Mark                        13                           36             2.25   \n",
              "Martina                     33                           49            10.50   \n",
              "Sally                       41                          153             6.75   \n",
              "\n",
              "         Cumulative Profit (Day 4)  \n",
              "Student                             \n",
              "Anne                          8.25  \n",
              "Hugo                        300.00  \n",
              "Jade                        116.00  \n",
              "Joe                         132.00  \n",
              "Mark                         81.00  \n",
              "Martina                      83.50  \n",
              "Sally                       141.00  "
            ]
          },
          "execution_count": 33,
          "metadata": {},
          "output_type": "execute_result"
        }
      ],
      "source": [
        "# groupby needs an aggregation functon\n",
        "student_sums = df.groupby(\"Student\").sum()\n",
        "student_sums"
      ]
    },
    {
      "cell_type": "code",
      "execution_count": 34,
      "metadata": {
        "id": "kpGTW8m9YyVP"
      },
      "outputs": [
        {
          "data": {
            "text/plain": [
              "Student\n",
              "Anne        11\n",
              "Hugo       150\n",
              "Jade        47\n",
              "Joe         48\n",
              "Mark        36\n",
              "Martina     49\n",
              "Sally      153\n",
              "Name: Cumulative Quantity (Day 4), dtype: int64"
            ]
          },
          "execution_count": 34,
          "metadata": {},
          "output_type": "execute_result"
        }
      ],
      "source": [
        "# Obtain the only the cumulative profit per student by slicing\n",
        "quantity_by_student = df.groupby('Student')['Cumulative Quantity (Day 4)'].sum()\n",
        "quantity_by_student"
      ]
    },
    {
      "cell_type": "code",
      "execution_count": 35,
      "metadata": {
        "id": "h48yd9utYyXf"
      },
      "outputs": [
        {
          "data": {
            "text/plain": [
              "Student\n",
              "Sally      153\n",
              "Hugo       150\n",
              "Martina     49\n",
              "Joe         48\n",
              "Jade        47\n",
              "Mark        36\n",
              "Anne        11\n",
              "Name: Cumulative Quantity (Day 4), dtype: int64"
            ]
          },
          "execution_count": 35,
          "metadata": {},
          "output_type": "execute_result"
        }
      ],
      "source": [
        "# Sort from highest to lowest profit\n",
        "quantity_by_student.sort_values(ascending=False)"
      ]
    },
    {
      "cell_type": "markdown",
      "metadata": {
        "id": "K0HEaNQNbq33"
      },
      "source": [
        "**5) Which student generated the most total profit?**"
      ]
    },
    {
      "cell_type": "code",
      "execution_count": 36,
      "metadata": {
        "id": "JQgvdFePYyaA"
      },
      "outputs": [
        {
          "data": {
            "text/plain": [
              "Student\n",
              "Hugo       300.00\n",
              "Sally      141.00\n",
              "Joe        132.00\n",
              "Jade       116.00\n",
              "Martina     83.50\n",
              "Mark        81.00\n",
              "Anne         8.25\n",
              "Name: Cumulative Profit (Day 4), dtype: float64"
            ]
          },
          "execution_count": 36,
          "metadata": {},
          "output_type": "execute_result"
        }
      ],
      "source": [
        "# Obtain cumulative profit grouped by student\n",
        "profit_by_student = df.groupby('Student')['Cumulative Profit (Day 4)'].sum()\n",
        "# Sort from highest to lowest\n",
        "profit_by_student.sort_values(ascending=False)"
      ]
    },
    {
      "cell_type": "markdown",
      "metadata": {
        "id": "zqpgV_Kab6V-"
      },
      "source": [
        "**6) How much money has the club earned overall by the end of Day 4? How much more do they need to earn on Day 5 to meet their goal?**\n"
      ]
    },
    {
      "cell_type": "code",
      "execution_count": 37,
      "metadata": {
        "id": "t0M5tFnwbrdu"
      },
      "outputs": [
        {
          "name": "stdout",
          "output_type": "stream",
          "text": [
            "861.75\n"
          ]
        }
      ],
      "source": [
        "# Total Profit for the club\n",
        "total_profit = df['Cumulative Profit (Day 4)'].sum()\n",
        "print(total_profit)"
      ]
    },
    {
      "cell_type": "code",
      "execution_count": 40,
      "metadata": {
        "id": "GGuPY1njbrgO"
      },
      "outputs": [
        {
          "name": "stdout",
          "output_type": "stream",
          "text": [
            "Club earnings overall by the end of Day 4: 861.75\n",
            "Remaining earnings needed on Day 5 to meet the goal: 138.25\n",
            "\n"
          ]
        }
      ],
      "source": [
        "# How much more money do they need to earn 1000?\n",
        "# Total Profit for the club\n",
        "total_earnings_day_4 = df['Cumulative Profit (Day 4)'].sum()\n",
        "club_goal = 1000  # Assuming the club's goal is 1000\n",
        "remaining_goal_day_5 = club_goal - total_earnings_day_4\n",
        "print(f\"Club earnings overall by the end of Day 4: {total_earnings_day_4}\\nRemaining earnings needed on Day 5 to meet the goal: {remaining_goal_day_5}\\n\")"
      ]
    },
    {
      "cell_type": "code",
      "execution_count": null,
      "metadata": {
        "id": "dAjCdfDUilEt"
      },
      "outputs": [],
      "source": []
    }
  ],
  "metadata": {
    "colab": {
      "provenance": []
    },
    "kernelspec": {
      "display_name": "Python 3",
      "name": "python3"
    },
    "language_info": {
      "codemirror_mode": {
        "name": "ipython",
        "version": 3
      },
      "file_extension": ".py",
      "mimetype": "text/x-python",
      "name": "python",
      "nbconvert_exporter": "python",
      "pygments_lexer": "ipython3",
      "version": "3.12.0"
    }
  },
  "nbformat": 4,
  "nbformat_minor": 0
}
